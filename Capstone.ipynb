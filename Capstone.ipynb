{
 "cells": [
  {
   "cell_type": "code",
   "execution_count": 1,
   "metadata": {},
   "outputs": [],
   "source": [
    "import pyspark\n",
    "from pyspark.sql import SparkSession\n",
    "from pyspark.sql.types import StructType, StructField, StringType, IntegerType, BooleanType, DoubleType, ArrayType\n"
   ]
  },
  {
   "cell_type": "code",
   "execution_count": 2,
   "metadata": {},
   "outputs": [],
   "source": [
    "spark = SparkSession.builder.appName('CreditCardSystem').getOrCreate()\n"
   ]
  },
  {
   "cell_type": "code",
   "execution_count": 3,
   "metadata": {},
   "outputs": [
    {
     "name": "stderr",
     "output_type": "stream",
     "text": [
      "c:\\Users\\Learner_XZHCG302\\AppData\\Local\\Programs\\Python\\Python310\\lib\\site-packages\\pyspark\\sql\\pandas\\conversion.py:474: FutureWarning: iteritems is deprecated and will be removed in a future version. Use .items instead.\n",
      "  for column, series in pdf.iteritems():\n",
      "c:\\Users\\Learner_XZHCG302\\AppData\\Local\\Programs\\Python\\Python310\\lib\\site-packages\\pyspark\\sql\\pandas\\conversion.py:486: FutureWarning: iteritems is deprecated and will be removed in a future version. Use .items instead.\n",
      "  for column, series in pdf.iteritems():\n"
     ]
    },
    {
     "name": "stdout",
     "output_type": "stream",
     "text": [
      "+-----------------+-----------+------------+------------+------------+-------------------+----------+--------------------+-------------+\n",
      "|      BRANCH_CITY|BRANCH_CODE| BRANCH_NAME|BRANCH_PHONE|BRANCH_STATE|      BRANCH_STREET|BRANCH_ZIP|        LAST_UPDATED|updated_phone|\n",
      "+-----------------+-----------+------------+------------+------------+-------------------+----------+--------------------+-------------+\n",
      "|        Lakeville|          1|Example Bank|  1234565276|          MN|       Bridle Court|     55044|2018-04-18T16:51:...|(123)456-5276|\n",
      "|          Huntley|          2|Example Bank|  1234618993|          IL|  Washington Street|     60142|2018-04-18T16:51:...|(123)461-8993|\n",
      "|SouthRichmondHill|          3|Example Bank|  1234985926|          NY|      Warren Street|     11419|2018-04-18T16:51:...|(123)498-5926|\n",
      "|       Middleburg|          4|Example Bank|  1234663064|          FL|   Cleveland Street|     32068|2018-04-18T16:51:...|(123)466-3064|\n",
      "|    KingOfPrussia|          5|Example Bank|  1234849701|          PA|        14th Street|     19406|2018-04-18T16:51:...|(123)484-9701|\n",
      "|         Paterson|          7|Example Bank|  1234144890|          NJ|   Jefferson Street|      7501|2018-04-18T16:51:...|(123)414-4890|\n",
      "|        Pittsford|          8|Example Bank|  1234678272|          NY|           B Street|     14534|2018-04-18T16:51:...|(123)467-8272|\n",
      "|     Wethersfield|          9|Example Bank|  1234675219|          CT|    Jefferson Court|      6109|2018-04-18T16:51:...|(123)467-5219|\n",
      "|     NorthOlmsted|         10|Example Bank|  1234145047|          OH|     Cambridge Road|     44070|2018-04-18T16:51:...|(123)414-5047|\n",
      "|     Hillsborough|         11|Example Bank|  1234366354|          NJ|    3rd Street West|      8844|2018-04-18T16:51:...|(123)436-6354|\n",
      "|   MadisonHeights|         12|Example Bank|  1234867175|          MI|          Mill Road|     48071|2018-04-18T16:51:...|(123)486-7175|\n",
      "|           Oviedo|         14|Example Bank|  1234938460|          FL|  Washington Street|     32765|2018-04-18T16:51:...|(123)493-8460|\n",
      "|    Mechanicsburg|         15|Example Bank|  1234462043|          PA|    Chestnut Street|     17050|2018-04-18T16:51:...|(123)446-2043|\n",
      "|        Plainview|         16|Example Bank|  1234857525|          NY|       Monroe Drive|     11803|2018-04-18T16:51:...|(123)485-7525|\n",
      "|          Paducah|         17|Example Bank|  1234546360|          KY|    Railroad Street|     42001|2018-04-18T16:51:...|(123)454-6360|\n",
      "|     Harleysville|         18|Example Bank|  1234824455|          PA|Church Street South|     19438|2018-04-18T16:51:...|(123)482-4455|\n",
      "|     SilverSpring|         19|Example Bank|  1234484380|          MD|        King Street|     20901|2018-04-18T16:51:...|(123)448-4380|\n",
      "|       Burnsville|         20|Example Bank|  1234840138|          MN|   Canterbury Drive|     55337|2018-04-18T16:51:...|(123)484-0138|\n",
      "|           Tacoma|         21|Example Bank|  1234362433|          WA|         2nd Avenue|     98444|2018-04-18T16:51:...|(123)436-2433|\n",
      "|         Carlisle|         22|Example Bank|  1234922492|          PA| Front Street South|     17013|2018-04-18T16:51:...|(123)492-2492|\n",
      "+-----------------+-----------+------------+------------+------------+-------------------+----------+--------------------+-------------+\n",
      "only showing top 20 rows\n",
      "\n"
     ]
    }
   ],
   "source": [
    "#CREATING BRANCH PANDAS DATAFRAME\n",
    "#read branch json file\n",
    "import pandas as pd\n",
    "from pyspark.sql.types import DateType\n",
    "branch = spark.read.load(r\"C:\\Users\\Learner_XZHCG302\\Downloads\\cdw_sapp_branch.json\", format=\"json\", header = True,inferSchema = True)\n",
    "\n",
    "#create temp view to query branch table\n",
    "branch.createTempView(\"branch_table\")\n",
    "\n",
    "#create updated phone dataframe by querying branch table \n",
    "updated_phone = spark.sql(\"SELECT CONCAT('(',substr(branch_phone,1,3),')',substr(branch_phone,4,3),'-',substr(branch_phone,7,4)) as updated_phone from branch_table\")\n",
    "\n",
    "#convert updated_phone into pandas dataframe\n",
    "updated_phone = updated_phone.select(\"*\").toPandas()\n",
    "\n",
    "#convert branch into pandas df\n",
    "new_branch = branch.select(\"*\").toPandas()\n",
    "\n",
    "#concat dfs into one \n",
    "updated_branch = pd.concat([new_branch, updated_phone], axis =1)\n",
    "#updated_branch\n",
    "\n",
    "branch_spark = spark.createDataFrame(updated_branch)\n",
    "branch_spark.show()\n",
    "\n",
    "\n"
   ]
  },
  {
   "cell_type": "code",
   "execution_count": 4,
   "metadata": {},
   "outputs": [
    {
     "data": {
      "text/html": [
       "<div>\n",
       "<style scoped>\n",
       "    .dataframe tbody tr th:only-of-type {\n",
       "        vertical-align: middle;\n",
       "    }\n",
       "\n",
       "    .dataframe tbody tr th {\n",
       "        vertical-align: top;\n",
       "    }\n",
       "\n",
       "    .dataframe thead th {\n",
       "        text-align: right;\n",
       "    }\n",
       "</style>\n",
       "<table border=\"1\" class=\"dataframe\">\n",
       "  <thead>\n",
       "    <tr style=\"text-align: right;\">\n",
       "      <th></th>\n",
       "      <th>BRANCH_CODE</th>\n",
       "      <th>CREDIT_CARD_NO</th>\n",
       "      <th>CUST_SSN</th>\n",
       "      <th>DAY</th>\n",
       "      <th>MONTH</th>\n",
       "      <th>TRANSACTION_ID</th>\n",
       "      <th>TRANSACTION_TYPE</th>\n",
       "      <th>TRANSACTION_VALUE</th>\n",
       "      <th>YEAR</th>\n",
       "      <th>TIMEID</th>\n",
       "    </tr>\n",
       "  </thead>\n",
       "  <tbody>\n",
       "    <tr>\n",
       "      <th>0</th>\n",
       "      <td>114</td>\n",
       "      <td>4210653349028689</td>\n",
       "      <td>123459988</td>\n",
       "      <td>14</td>\n",
       "      <td>2</td>\n",
       "      <td>1</td>\n",
       "      <td>Education</td>\n",
       "      <td>78.90</td>\n",
       "      <td>2018</td>\n",
       "      <td>2018214</td>\n",
       "    </tr>\n",
       "    <tr>\n",
       "      <th>1</th>\n",
       "      <td>35</td>\n",
       "      <td>4210653349028689</td>\n",
       "      <td>123459988</td>\n",
       "      <td>20</td>\n",
       "      <td>3</td>\n",
       "      <td>2</td>\n",
       "      <td>Entertainment</td>\n",
       "      <td>14.24</td>\n",
       "      <td>2018</td>\n",
       "      <td>2018320</td>\n",
       "    </tr>\n",
       "    <tr>\n",
       "      <th>2</th>\n",
       "      <td>160</td>\n",
       "      <td>4210653349028689</td>\n",
       "      <td>123459988</td>\n",
       "      <td>8</td>\n",
       "      <td>7</td>\n",
       "      <td>3</td>\n",
       "      <td>Grocery</td>\n",
       "      <td>56.70</td>\n",
       "      <td>2018</td>\n",
       "      <td>201878</td>\n",
       "    </tr>\n",
       "    <tr>\n",
       "      <th>3</th>\n",
       "      <td>114</td>\n",
       "      <td>4210653349028689</td>\n",
       "      <td>123459988</td>\n",
       "      <td>19</td>\n",
       "      <td>4</td>\n",
       "      <td>4</td>\n",
       "      <td>Entertainment</td>\n",
       "      <td>59.73</td>\n",
       "      <td>2018</td>\n",
       "      <td>2018419</td>\n",
       "    </tr>\n",
       "    <tr>\n",
       "      <th>4</th>\n",
       "      <td>93</td>\n",
       "      <td>4210653349028689</td>\n",
       "      <td>123459988</td>\n",
       "      <td>10</td>\n",
       "      <td>10</td>\n",
       "      <td>5</td>\n",
       "      <td>Gas</td>\n",
       "      <td>3.59</td>\n",
       "      <td>2018</td>\n",
       "      <td>20181010</td>\n",
       "    </tr>\n",
       "    <tr>\n",
       "      <th>...</th>\n",
       "      <td>...</td>\n",
       "      <td>...</td>\n",
       "      <td>...</td>\n",
       "      <td>...</td>\n",
       "      <td>...</td>\n",
       "      <td>...</td>\n",
       "      <td>...</td>\n",
       "      <td>...</td>\n",
       "      <td>...</td>\n",
       "      <td>...</td>\n",
       "    </tr>\n",
       "    <tr>\n",
       "      <th>46689</th>\n",
       "      <td>49</td>\n",
       "      <td>4210653344660822</td>\n",
       "      <td>123451007</td>\n",
       "      <td>12</td>\n",
       "      <td>9</td>\n",
       "      <td>46690</td>\n",
       "      <td>Gas</td>\n",
       "      <td>66.20</td>\n",
       "      <td>2018</td>\n",
       "      <td>2018912</td>\n",
       "    </tr>\n",
       "    <tr>\n",
       "      <th>46690</th>\n",
       "      <td>168</td>\n",
       "      <td>4210653344660822</td>\n",
       "      <td>123451007</td>\n",
       "      <td>5</td>\n",
       "      <td>2</td>\n",
       "      <td>46691</td>\n",
       "      <td>Grocery</td>\n",
       "      <td>100.13</td>\n",
       "      <td>2018</td>\n",
       "      <td>201825</td>\n",
       "    </tr>\n",
       "    <tr>\n",
       "      <th>46691</th>\n",
       "      <td>104</td>\n",
       "      <td>4210653344660822</td>\n",
       "      <td>123451007</td>\n",
       "      <td>16</td>\n",
       "      <td>12</td>\n",
       "      <td>46692</td>\n",
       "      <td>Test</td>\n",
       "      <td>35.83</td>\n",
       "      <td>2018</td>\n",
       "      <td>20181216</td>\n",
       "    </tr>\n",
       "    <tr>\n",
       "      <th>46692</th>\n",
       "      <td>32</td>\n",
       "      <td>4210653344660822</td>\n",
       "      <td>123451007</td>\n",
       "      <td>15</td>\n",
       "      <td>1</td>\n",
       "      <td>46693</td>\n",
       "      <td>Entertainment</td>\n",
       "      <td>90.99</td>\n",
       "      <td>2018</td>\n",
       "      <td>2018115</td>\n",
       "    </tr>\n",
       "    <tr>\n",
       "      <th>46693</th>\n",
       "      <td>45</td>\n",
       "      <td>4210653344660822</td>\n",
       "      <td>123451007</td>\n",
       "      <td>17</td>\n",
       "      <td>11</td>\n",
       "      <td>46694</td>\n",
       "      <td>Healthcare</td>\n",
       "      <td>82.29</td>\n",
       "      <td>2018</td>\n",
       "      <td>20181117</td>\n",
       "    </tr>\n",
       "  </tbody>\n",
       "</table>\n",
       "<p>46694 rows × 10 columns</p>\n",
       "</div>"
      ],
      "text/plain": [
       "       BRANCH_CODE    CREDIT_CARD_NO   CUST_SSN  DAY  MONTH  TRANSACTION_ID  \\\n",
       "0              114  4210653349028689  123459988   14      2               1   \n",
       "1               35  4210653349028689  123459988   20      3               2   \n",
       "2              160  4210653349028689  123459988    8      7               3   \n",
       "3              114  4210653349028689  123459988   19      4               4   \n",
       "4               93  4210653349028689  123459988   10     10               5   \n",
       "...            ...               ...        ...  ...    ...             ...   \n",
       "46689           49  4210653344660822  123451007   12      9           46690   \n",
       "46690          168  4210653344660822  123451007    5      2           46691   \n",
       "46691          104  4210653344660822  123451007   16     12           46692   \n",
       "46692           32  4210653344660822  123451007   15      1           46693   \n",
       "46693           45  4210653344660822  123451007   17     11           46694   \n",
       "\n",
       "      TRANSACTION_TYPE  TRANSACTION_VALUE  YEAR    TIMEID  \n",
       "0            Education              78.90  2018   2018214  \n",
       "1        Entertainment              14.24  2018   2018320  \n",
       "2              Grocery              56.70  2018    201878  \n",
       "3        Entertainment              59.73  2018   2018419  \n",
       "4                  Gas               3.59  2018  20181010  \n",
       "...                ...                ...   ...       ...  \n",
       "46689              Gas              66.20  2018   2018912  \n",
       "46690          Grocery             100.13  2018    201825  \n",
       "46691             Test              35.83  2018  20181216  \n",
       "46692    Entertainment              90.99  2018   2018115  \n",
       "46693       Healthcare              82.29  2018  20181117  \n",
       "\n",
       "[46694 rows x 10 columns]"
      ]
     },
     "execution_count": 4,
     "metadata": {},
     "output_type": "execute_result"
    }
   ],
   "source": [
    "#CREATING CREDIT DATA FRAME\n",
    "#read credit json file\n",
    "credit = spark.read.load(r\"C:\\Users\\Learner_XZHCG302\\Downloads\\cdw_sapp_credit.json\", format=\"json\", header = True,inferSchema = True)\n",
    "#create temp table to query credit dataframe\n",
    "credit.createTempView(\"credit_table\")\n",
    "\n",
    "#combine year, month, and day with sql query and store into a new dataframe\n",
    "timeid = spark.sql(\"SELECT CONCAT(year, month, day) as TIMEID FROM credit_table\")\n",
    "\n",
    "#import pandas\n",
    "import pandas as pd\n",
    "from pyspark.sql.types import DateType\n",
    "\n",
    "#convert credit dataframe and timeid dataframe into pandas dataframes\n",
    "new_credit = credit.select(\"*\").toPandas()\n",
    "timeid = timeid.select(\"*\").toPandas()\n",
    "\n",
    "#concat the two pandas dataframe\n",
    "updated_credit = pd.concat([new_credit, timeid], axis =1)\n",
    "updated_credit"
   ]
  },
  {
   "cell_type": "code",
   "execution_count": 5,
   "metadata": {},
   "outputs": [
    {
     "data": {
      "text/html": [
       "<div>\n",
       "<style scoped>\n",
       "    .dataframe tbody tr th:only-of-type {\n",
       "        vertical-align: middle;\n",
       "    }\n",
       "\n",
       "    .dataframe tbody tr th {\n",
       "        vertical-align: top;\n",
       "    }\n",
       "\n",
       "    .dataframe thead th {\n",
       "        text-align: right;\n",
       "    }\n",
       "</style>\n",
       "<table border=\"1\" class=\"dataframe\">\n",
       "  <thead>\n",
       "    <tr style=\"text-align: right;\">\n",
       "      <th></th>\n",
       "      <th>APT_NO</th>\n",
       "      <th>CREDIT_CARD_NO</th>\n",
       "      <th>CUST_CITY</th>\n",
       "      <th>CUST_COUNTRY</th>\n",
       "      <th>CUST_EMAIL</th>\n",
       "      <th>CUST_PHONE</th>\n",
       "      <th>CUST_STATE</th>\n",
       "      <th>CUST_ZIP</th>\n",
       "      <th>FIRST_NAME</th>\n",
       "      <th>LAST_NAME</th>\n",
       "      <th>LAST_UPDATED</th>\n",
       "      <th>MIDDLE_NAME</th>\n",
       "      <th>SSN</th>\n",
       "      <th>STREET_NAME</th>\n",
       "      <th>middle_name</th>\n",
       "      <th>full_street_address</th>\n",
       "    </tr>\n",
       "  </thead>\n",
       "  <tbody>\n",
       "    <tr>\n",
       "      <th>0</th>\n",
       "      <td>656</td>\n",
       "      <td>4210653310061055</td>\n",
       "      <td>Natchez</td>\n",
       "      <td>United States</td>\n",
       "      <td>AHooper@example.com</td>\n",
       "      <td>1237818</td>\n",
       "      <td>MS</td>\n",
       "      <td>39120</td>\n",
       "      <td>Alec</td>\n",
       "      <td>Hooper</td>\n",
       "      <td>2018-04-21T12:49:02.000-04:00</td>\n",
       "      <td>Wm</td>\n",
       "      <td>123456100</td>\n",
       "      <td>Main Street North</td>\n",
       "      <td>wm</td>\n",
       "      <td>656, Main Street North</td>\n",
       "    </tr>\n",
       "    <tr>\n",
       "      <th>1</th>\n",
       "      <td>829</td>\n",
       "      <td>4210653310102868</td>\n",
       "      <td>Wethersfield</td>\n",
       "      <td>United States</td>\n",
       "      <td>EHolman@example.com</td>\n",
       "      <td>1238933</td>\n",
       "      <td>CT</td>\n",
       "      <td>06109</td>\n",
       "      <td>Etta</td>\n",
       "      <td>Holman</td>\n",
       "      <td>2018-04-21T12:49:02.000-04:00</td>\n",
       "      <td>Brendan</td>\n",
       "      <td>123453023</td>\n",
       "      <td>Redwood Drive</td>\n",
       "      <td>brendan</td>\n",
       "      <td>829, Redwood Drive</td>\n",
       "    </tr>\n",
       "    <tr>\n",
       "      <th>2</th>\n",
       "      <td>683</td>\n",
       "      <td>4210653310116272</td>\n",
       "      <td>Huntley</td>\n",
       "      <td>United States</td>\n",
       "      <td>WDunham@example.com</td>\n",
       "      <td>1243018</td>\n",
       "      <td>IL</td>\n",
       "      <td>60142</td>\n",
       "      <td>Wilber</td>\n",
       "      <td>Dunham</td>\n",
       "      <td>2018-04-21T12:49:02.000-04:00</td>\n",
       "      <td>Ezequiel</td>\n",
       "      <td>123454487</td>\n",
       "      <td>12th Street East</td>\n",
       "      <td>ezequiel</td>\n",
       "      <td>683, 12th Street East</td>\n",
       "    </tr>\n",
       "    <tr>\n",
       "      <th>3</th>\n",
       "      <td>253</td>\n",
       "      <td>4210653310195948</td>\n",
       "      <td>NewBerlin</td>\n",
       "      <td>United States</td>\n",
       "      <td>EHardy@example.com</td>\n",
       "      <td>1243215</td>\n",
       "      <td>WI</td>\n",
       "      <td>53151</td>\n",
       "      <td>Eugenio</td>\n",
       "      <td>Hardy</td>\n",
       "      <td>2018-04-21T12:49:02.000-04:00</td>\n",
       "      <td>Trina</td>\n",
       "      <td>123459758</td>\n",
       "      <td>Country Club Road</td>\n",
       "      <td>trina</td>\n",
       "      <td>253, Country Club Road</td>\n",
       "    </tr>\n",
       "    <tr>\n",
       "      <th>4</th>\n",
       "      <td>301</td>\n",
       "      <td>4210653310356919</td>\n",
       "      <td>ElPaso</td>\n",
       "      <td>United States</td>\n",
       "      <td>WAyers@example.com</td>\n",
       "      <td>1242074</td>\n",
       "      <td>TX</td>\n",
       "      <td>79930</td>\n",
       "      <td>Wilfred</td>\n",
       "      <td>Ayers</td>\n",
       "      <td>2018-04-21T12:49:02.000-04:00</td>\n",
       "      <td>May</td>\n",
       "      <td>123454431</td>\n",
       "      <td>Madison Street</td>\n",
       "      <td>may</td>\n",
       "      <td>301, Madison Street</td>\n",
       "    </tr>\n",
       "    <tr>\n",
       "      <th>...</th>\n",
       "      <td>...</td>\n",
       "      <td>...</td>\n",
       "      <td>...</td>\n",
       "      <td>...</td>\n",
       "      <td>...</td>\n",
       "      <td>...</td>\n",
       "      <td>...</td>\n",
       "      <td>...</td>\n",
       "      <td>...</td>\n",
       "      <td>...</td>\n",
       "      <td>...</td>\n",
       "      <td>...</td>\n",
       "      <td>...</td>\n",
       "      <td>...</td>\n",
       "      <td>...</td>\n",
       "      <td>...</td>\n",
       "    </tr>\n",
       "    <tr>\n",
       "      <th>947</th>\n",
       "      <td>882</td>\n",
       "      <td>4210653399559239</td>\n",
       "      <td>SiouxCity</td>\n",
       "      <td>United States</td>\n",
       "      <td>FCastle@example.com</td>\n",
       "      <td>1238344</td>\n",
       "      <td>IA</td>\n",
       "      <td>51106</td>\n",
       "      <td>Freida</td>\n",
       "      <td>Castle</td>\n",
       "      <td>2018-04-21T12:49:02.000-04:00</td>\n",
       "      <td>Jonah</td>\n",
       "      <td>123451589</td>\n",
       "      <td>Main Street South</td>\n",
       "      <td>jonah</td>\n",
       "      <td>882, Main Street South</td>\n",
       "    </tr>\n",
       "    <tr>\n",
       "      <th>948</th>\n",
       "      <td>470</td>\n",
       "      <td>4210653399650358</td>\n",
       "      <td>Summerville</td>\n",
       "      <td>United States</td>\n",
       "      <td>FBlock@example.com</td>\n",
       "      <td>1240420</td>\n",
       "      <td>SC</td>\n",
       "      <td>29483</td>\n",
       "      <td>Fern</td>\n",
       "      <td>Block</td>\n",
       "      <td>2018-04-21T12:49:02.000-04:00</td>\n",
       "      <td>Aron</td>\n",
       "      <td>123457088</td>\n",
       "      <td>Glenwood Avenue</td>\n",
       "      <td>aron</td>\n",
       "      <td>470, Glenwood Avenue</td>\n",
       "    </tr>\n",
       "    <tr>\n",
       "      <th>949</th>\n",
       "      <td>405</td>\n",
       "      <td>4210653399732638</td>\n",
       "      <td>Duluth</td>\n",
       "      <td>United States</td>\n",
       "      <td>DPruitt@example.com</td>\n",
       "      <td>1236149</td>\n",
       "      <td>GA</td>\n",
       "      <td>30096</td>\n",
       "      <td>Dylan</td>\n",
       "      <td>Pruitt</td>\n",
       "      <td>2018-04-21T12:49:02.000-04:00</td>\n",
       "      <td>Lucas</td>\n",
       "      <td>123453259</td>\n",
       "      <td>Country Lane</td>\n",
       "      <td>lucas</td>\n",
       "      <td>405, Country Lane</td>\n",
       "    </tr>\n",
       "    <tr>\n",
       "      <th>950</th>\n",
       "      <td>15</td>\n",
       "      <td>4210653399859149</td>\n",
       "      <td>Rowlett</td>\n",
       "      <td>United States</td>\n",
       "      <td>EBeatty@example.com</td>\n",
       "      <td>1236886</td>\n",
       "      <td>TX</td>\n",
       "      <td>75088</td>\n",
       "      <td>Emery</td>\n",
       "      <td>Beatty</td>\n",
       "      <td>2018-04-21T12:49:02.000-04:00</td>\n",
       "      <td>Susanna</td>\n",
       "      <td>123454047</td>\n",
       "      <td>8th Street</td>\n",
       "      <td>susanna</td>\n",
       "      <td>15, 8th Street</td>\n",
       "    </tr>\n",
       "    <tr>\n",
       "      <th>951</th>\n",
       "      <td>67</td>\n",
       "      <td>4210653399939240</td>\n",
       "      <td>SanLorenzo</td>\n",
       "      <td>United States</td>\n",
       "      <td>PMullen@example.com</td>\n",
       "      <td>1237017</td>\n",
       "      <td>CA</td>\n",
       "      <td>94580</td>\n",
       "      <td>Phil</td>\n",
       "      <td>Mullen</td>\n",
       "      <td>2018-04-21T12:49:02.000-04:00</td>\n",
       "      <td>Jaime</td>\n",
       "      <td>123454500</td>\n",
       "      <td>Charles Street</td>\n",
       "      <td>jaime</td>\n",
       "      <td>67, Charles Street</td>\n",
       "    </tr>\n",
       "  </tbody>\n",
       "</table>\n",
       "<p>952 rows × 16 columns</p>\n",
       "</div>"
      ],
      "text/plain": [
       "    APT_NO    CREDIT_CARD_NO     CUST_CITY   CUST_COUNTRY  \\\n",
       "0      656  4210653310061055       Natchez  United States   \n",
       "1      829  4210653310102868  Wethersfield  United States   \n",
       "2      683  4210653310116272       Huntley  United States   \n",
       "3      253  4210653310195948     NewBerlin  United States   \n",
       "4      301  4210653310356919        ElPaso  United States   \n",
       "..     ...               ...           ...            ...   \n",
       "947    882  4210653399559239     SiouxCity  United States   \n",
       "948    470  4210653399650358   Summerville  United States   \n",
       "949    405  4210653399732638        Duluth  United States   \n",
       "950     15  4210653399859149       Rowlett  United States   \n",
       "951     67  4210653399939240    SanLorenzo  United States   \n",
       "\n",
       "              CUST_EMAIL  CUST_PHONE CUST_STATE CUST_ZIP FIRST_NAME LAST_NAME  \\\n",
       "0    AHooper@example.com     1237818         MS    39120       Alec    Hooper   \n",
       "1    EHolman@example.com     1238933         CT    06109       Etta    Holman   \n",
       "2    WDunham@example.com     1243018         IL    60142     Wilber    Dunham   \n",
       "3     EHardy@example.com     1243215         WI    53151    Eugenio     Hardy   \n",
       "4     WAyers@example.com     1242074         TX    79930    Wilfred     Ayers   \n",
       "..                   ...         ...        ...      ...        ...       ...   \n",
       "947  FCastle@example.com     1238344         IA    51106     Freida    Castle   \n",
       "948   FBlock@example.com     1240420         SC    29483       Fern     Block   \n",
       "949  DPruitt@example.com     1236149         GA    30096      Dylan    Pruitt   \n",
       "950  EBeatty@example.com     1236886         TX    75088      Emery    Beatty   \n",
       "951  PMullen@example.com     1237017         CA    94580       Phil    Mullen   \n",
       "\n",
       "                      LAST_UPDATED MIDDLE_NAME        SSN        STREET_NAME  \\\n",
       "0    2018-04-21T12:49:02.000-04:00          Wm  123456100  Main Street North   \n",
       "1    2018-04-21T12:49:02.000-04:00     Brendan  123453023      Redwood Drive   \n",
       "2    2018-04-21T12:49:02.000-04:00    Ezequiel  123454487   12th Street East   \n",
       "3    2018-04-21T12:49:02.000-04:00       Trina  123459758  Country Club Road   \n",
       "4    2018-04-21T12:49:02.000-04:00         May  123454431     Madison Street   \n",
       "..                             ...         ...        ...                ...   \n",
       "947  2018-04-21T12:49:02.000-04:00       Jonah  123451589  Main Street South   \n",
       "948  2018-04-21T12:49:02.000-04:00        Aron  123457088    Glenwood Avenue   \n",
       "949  2018-04-21T12:49:02.000-04:00       Lucas  123453259       Country Lane   \n",
       "950  2018-04-21T12:49:02.000-04:00     Susanna  123454047         8th Street   \n",
       "951  2018-04-21T12:49:02.000-04:00       Jaime  123454500     Charles Street   \n",
       "\n",
       "    middle_name     full_street_address  \n",
       "0            wm  656, Main Street North  \n",
       "1       brendan      829, Redwood Drive  \n",
       "2      ezequiel   683, 12th Street East  \n",
       "3         trina  253, Country Club Road  \n",
       "4           may     301, Madison Street  \n",
       "..          ...                     ...  \n",
       "947       jonah  882, Main Street South  \n",
       "948        aron    470, Glenwood Avenue  \n",
       "949       lucas       405, Country Lane  \n",
       "950     susanna          15, 8th Street  \n",
       "951       jaime      67, Charles Street  \n",
       "\n",
       "[952 rows x 16 columns]"
      ]
     },
     "execution_count": 5,
     "metadata": {},
     "output_type": "execute_result"
    }
   ],
   "source": [
    "#CREATING CUSTMER PANDAS DATAFRAME\n",
    "#Read the custmer json file into a dataframe\n",
    "custmer = spark.read.load(r\"C:\\Users\\Learner_XZHCG302\\Downloads\\cdw_sapp_custmer.json\", format=\"json\", header = True,inferSchema = True)\n",
    "\n",
    "#Create a temp view of custmer\n",
    "custmer.createTempView(\"custmer_table\")\n",
    "\n",
    "#create dataframe by querying custmer table with lower middle name\n",
    "middle_name = spark.sql(\"select lower(middle_name) as middle_name from custmer_table\")\n",
    "\n",
    "#create full street address dataframe\n",
    "full_address = spark.sql(\"SELECT CONCAT(apt_no, ', ', street_name) as full_street_address FROM custmer_table\")\n",
    "\n",
    "#convert full address dataframe to pandas dataframe\n",
    "full_address = full_address.select(\"*\").toPandas()\n",
    "\n",
    "#convert middle name dataframe into pandas dataframe\n",
    "middle_name = middle_name.select(\"*\").toPandas()\n",
    "\n",
    "#create custmer phone dataframe\n",
    "spark.sql(\"SELECT CONCAT('(',substr(cust_phone,1,3),')',substr(cust_phone,4,3),'-',substr(cust_phone,7,4)) as updated_phone from custmer_table\")\n",
    "\n",
    "#convert custmer dataframe into pandas dataframe \n",
    "new_custmer = custmer.select(\"*\").toPandas()\n",
    "\n",
    "#Concat the two new pandas dataframes into one\n",
    "updated_custmer = pd.concat([new_custmer, middle_name, full_address], axis =1)\n",
    "\n",
    "#print updated customer table \n",
    "updated_custmer\n",
    "\n",
    "\n",
    "\n"
   ]
  },
  {
   "cell_type": "code",
   "execution_count": 11,
   "metadata": {},
   "outputs": [],
   "source": [
    "#Write branch dataframe into HeidiSQL\n",
    "import os\n",
    "db_user = os.environ.get('DB_USER')\n",
    "db_password= os.environ.get('DB_PASS')\n",
    "branch_spark.write.format(\"jdbc\") \\\n",
    "  .mode(\"append\") \\\n",
    "  .option(\"url\", \"jdbc:mysql://localhost:3306/creditcard_capstone\") \\\n",
    "  .option(\"dbtable\", \"creditcard_capstone.CDW_SAPP_BRANCH\") \\\n",
    "  .option(\"user\", db_user) \\\n",
    "  .option(\"password\", db_password) \\\n",
    "  .save()"
   ]
  },
  {
   "cell_type": "code",
   "execution_count": null,
   "metadata": {},
   "outputs": [],
   "source": [
    "#Write credit dataframe into HeidiSQL\n",
    "import os \n",
    "db_user = os.environ.get('DB_USER')\n",
    "db_password= os.environ.get('DB_PASS')\n",
    "\n",
    "credit.write.format(\"jdbc\") \\\n",
    "  .mode(\"append\") \\\n",
    "  .option(\"url\", \"jdbc:mysql://localhost:3306/creditcard_capstone\") \\\n",
    "  .option(\"dbtable\", \"creditcard_capstone.CDW_SAPP_CREDIT_CARD\") \\\n",
    "  .option(\"user\", db_user) \\\n",
    "  .option(\"password\", db_password) \\\n",
    "  .save()"
   ]
  },
  {
   "cell_type": "code",
   "execution_count": 7,
   "metadata": {},
   "outputs": [],
   "source": [
    "#Write credit dataframe into HeidiSQL\n",
    "\n",
    "import os \n",
    "db_user = os.environ.get('DB_USER')\n",
    "db_password= os.environ.get('DB_PASS')\n",
    "\n",
    "custmer.write.format(\"jdbc\") \\\n",
    "  .mode(\"append\") \\\n",
    "  .option(\"url\", \"jdbc:mysql://localhost:3306/creditcard_capstone\") \\\n",
    "  .option(\"dbtable\", \"creditcard_capstone.CDW_SAPP_CUSTOMER\") \\\n",
    "  .option(\"user\", db_user) \\\n",
    "  .option(\"password\", db_password) \\\n",
    "  .save()"
   ]
  },
  {
   "cell_type": "code",
   "execution_count": 8,
   "metadata": {},
   "outputs": [
    {
     "name": "stdout",
     "output_type": "stream",
     "text": [
      "+-----------+----------------+---------+---+-----+--------------+----------------+-----------------+----+------+----------------+---------+-------------+-------------------+----------+----------+--------+----------+---------+--------------------+-----------+---------+---------------+\n",
      "|BRANCH_CODE|  CREDIT_CARD_NO| CUST_SSN|DAY|MONTH|TRANSACTION_ID|TRANSACTION_TYPE|TRANSACTION_VALUE|YEAR|APT_NO|  CREDIT_CARD_NO|CUST_CITY| CUST_COUNTRY|         CUST_EMAIL|CUST_PHONE|CUST_STATE|CUST_ZIP|FIRST_NAME|LAST_NAME|        LAST_UPDATED|MIDDLE_NAME|      SSN|    STREET_NAME|\n",
      "+-----------+----------------+---------+---+-----+--------------+----------------+-----------------+----+------+----------------+---------+-------------+-------------------+----------+----------+--------+----------+---------+--------------------+-----------+---------+---------------+\n",
      "|        164|4210653374740577|123459564| 18|    2|          2165|   Entertainment|            38.15|2018|    21|4210653374740577|  Natchez|United States|  KTodd@example.com|   1238952|        MS|   39120|     Kraig|     Todd|2018-04-21T12:49:...|    Dolores|123459564|   Durham Court|\n",
      "|        180|4210653374740577|123459564|  6|    2|          2196|      Healthcare|            25.24|2018|    21|4210653374740577|  Natchez|United States|  KTodd@example.com|   1238952|        MS|   39120|     Kraig|     Todd|2018-04-21T12:49:...|    Dolores|123459564|   Durham Court|\n",
      "|         59|4210653374740577|123459564| 10|    2|          2204|   Entertainment|            16.44|2018|    21|4210653374740577|  Natchez|United States|  KTodd@example.com|   1238952|        MS|   39120|     Kraig|     Todd|2018-04-21T12:49:...|    Dolores|123459564|   Durham Court|\n",
      "|        119|4210653374740577|123459564| 19|    2|          2210|           Bills|            87.25|2018|    21|4210653374740577|  Natchez|United States|  KTodd@example.com|   1238952|        MS|   39120|     Kraig|     Todd|2018-04-21T12:49:...|    Dolores|123459564|   Durham Court|\n",
      "|        103|4210653374740577|123459564|  1|    2|          2211|            Test|            55.19|2018|    21|4210653374740577|  Natchez|United States|  KTodd@example.com|   1238952|        MS|   39120|     Kraig|     Todd|2018-04-21T12:49:...|    Dolores|123459564|   Durham Court|\n",
      "|         32|4210653374740577|123459564|  7|    2|          2216|       Education|            17.88|2018|    21|4210653374740577|  Natchez|United States|  KTodd@example.com|   1238952|        MS|   39120|     Kraig|     Todd|2018-04-21T12:49:...|    Dolores|123459564|   Durham Court|\n",
      "|        168|4210653362697310|123459262|  2|    2|          3530|             Gas|            40.91|2018|   718|4210653362697310|  Natchez|United States| MHagan@example.com|   1243335|        MS|   39120|   Melissa|    Hagan|2018-04-21T12:49:...|    Clifton|123459262|  Parker Street|\n",
      "|          9|4210653362697310|123459262| 23|    2|          3542|   Entertainment|            12.71|2018|   718|4210653362697310|  Natchez|United States| MHagan@example.com|   1243335|        MS|   39120|   Melissa|    Hagan|2018-04-21T12:49:...|    Clifton|123459262|  Parker Street|\n",
      "|        104|4210653362697310|123459262| 27|    2|          3543|      Healthcare|            23.92|2018|   718|4210653362697310|  Natchez|United States| MHagan@example.com|   1243335|        MS|   39120|   Melissa|    Hagan|2018-04-21T12:49:...|    Clifton|123459262|  Parker Street|\n",
      "|        136|4210653362697310|123459262|  4|    2|          3548|            Test|            38.85|2018|   718|4210653362697310|  Natchez|United States| MHagan@example.com|   1243335|        MS|   39120|   Melissa|    Hagan|2018-04-21T12:49:...|    Clifton|123459262|  Parker Street|\n",
      "|         35|4210653362697310|123459262|  5|    2|          3549|      Healthcare|             38.4|2018|   718|4210653362697310|  Natchez|United States| MHagan@example.com|   1243335|        MS|   39120|   Melissa|    Hagan|2018-04-21T12:49:...|    Clifton|123459262|  Parker Street|\n",
      "|         31|4210653359877473|123457519| 24|    2|         12619|       Education|             23.1|2018|   384|4210653359877473|  Natchez|United States|ICramer@example.com|   1238679|        MS|   39120|    Isabel|   Cramer|2018-04-21T12:49:...|      James|123457519|Sheffield Drive|\n",
      "|         59|4210653359877473|123457519| 14|    2|         12621|           Bills|            53.87|2018|   384|4210653359877473|  Natchez|United States|ICramer@example.com|   1238679|        MS|   39120|    Isabel|   Cramer|2018-04-21T12:49:...|      James|123457519|Sheffield Drive|\n",
      "|        123|4210653359877473|123457519| 27|    2|         12623|   Entertainment|            10.74|2018|   384|4210653359877473|  Natchez|United States|ICramer@example.com|   1238679|        MS|   39120|    Isabel|   Cramer|2018-04-21T12:49:...|      James|123457519|Sheffield Drive|\n",
      "|         67|4210653359877473|123457519| 11|    2|         12641|       Education|            90.37|2018|   384|4210653359877473|  Natchez|United States|ICramer@example.com|   1238679|        MS|   39120|    Isabel|   Cramer|2018-04-21T12:49:...|      James|123457519|Sheffield Drive|\n",
      "|          8|4210653359877473|123457519|  6|    2|         12643|       Education|            58.35|2018|   384|4210653359877473|  Natchez|United States|ICramer@example.com|   1238679|        MS|   39120|    Isabel|   Cramer|2018-04-21T12:49:...|      James|123457519|Sheffield Drive|\n",
      "|         51|4210653359877473|123457519| 25|    2|         12659|         Grocery|             81.1|2018|   384|4210653359877473|  Natchez|United States|ICramer@example.com|   1238679|        MS|   39120|    Isabel|   Cramer|2018-04-21T12:49:...|      James|123457519|Sheffield Drive|\n",
      "|         95|4210653359877473|123457519| 17|    2|         12665|         Grocery|             6.72|2018|   384|4210653359877473|  Natchez|United States|ICramer@example.com|   1238679|        MS|   39120|    Isabel|   Cramer|2018-04-21T12:49:...|      James|123457519|Sheffield Drive|\n",
      "|        117|4210653396189363|123457139| 10|    2|         15177|            Test|            100.5|2018|   109|4210653396189363|  Natchez|United States|  BWare@example.com|   1242316|        MS|   39120|     Blair|     Ware|2018-04-21T12:49:...|     Antone|123457139|  Linden Street|\n",
      "|         70|4210653396189363|123457139| 21|    2|         15199|            Test|            96.26|2018|   109|4210653396189363|  Natchez|United States|  BWare@example.com|   1242316|        MS|   39120|     Blair|     Ware|2018-04-21T12:49:...|     Antone|123457139|  Linden Street|\n",
      "+-----------+----------------+---------+---+-----+--------------+----------------+-----------------+----+------+----------------+---------+-------------+-------------------+----------+----------+--------+----------+---------+--------------------+-----------+---------+---------------+\n",
      "only showing top 20 rows\n",
      "\n"
     ]
    }
   ],
   "source": [
    "#2.1 1) Used to display the transactions made by customers living in a given zip code for a given month and year.\n",
    "#Order by day in descending order.\n",
    "\n",
    "zipcode = 39120 \n",
    "month = 2\n",
    "year = 2018\n",
    "\n",
    "    \n",
    "spark.sql(\"SELECT * FROM credit_table crt INNER JOIN custmer_table ct on crt.CUST_SSN = ct.SSN \\\n",
    "          WHERE (cust_zip = {0} and month={1} and year={2})\".format(zipcode, month, year)).show()"
   ]
  },
  {
   "cell_type": "code",
   "execution_count": 6,
   "metadata": {},
   "outputs": [
    {
     "name": "stdout",
     "output_type": "stream",
     "text": [
      "+-----------+----------------+---------+---+-----+--------------+----------------+-----------------+----+------+----------------+------------+-------------+--------------------+----------+----------+--------+----------+---------+--------------------+-----------+---------+--------------+\n",
      "|BRANCH_CODE|  CREDIT_CARD_NO| CUST_SSN|DAY|MONTH|TRANSACTION_ID|TRANSACTION_TYPE|TRANSACTION_VALUE|YEAR|APT_NO|  CREDIT_CARD_NO|   CUST_CITY| CUST_COUNTRY|          CUST_EMAIL|CUST_PHONE|CUST_STATE|CUST_ZIP|FIRST_NAME|LAST_NAME|        LAST_UPDATED|MIDDLE_NAME|      SSN|   STREET_NAME|\n",
      "+-----------+----------------+---------+---+-----+--------------+----------------+-----------------+----+------+----------------+------------+-------------+--------------------+----------+----------+--------+----------+---------+--------------------+-----------+---------+--------------+\n",
      "|        166|4210653344660822|123451007| 28|    8|         46671|             Gas|             66.2|2018|   762|4210653344660822|Chambersburg|United States|   MCamp@example.com|   1241782|        PA|   17201|    Marcel|     Camp|2018-04-21T12:49:...|    Andreas|123451007|College Avenue|\n",
      "|         16|4210653373620931|123457272| 27|    8|         14188|           Bills|            11.97|2018|   118|4210653373620931|Chambersburg|United States|  BNeely@example.com|   1234780|        PA|   17201|    Brooke|    Neely|2018-04-21T12:49:...|   Eldridge|123457272|   Aspen Drive|\n",
      "|         23|4210653374041659|123457354| 27|    8|         13495|       Education|            90.42|2018|   558|4210653374041659|Chambersburg|United States|RRobbins@example.com|   1241952|        PA|   17201|    Rickey|  Robbins|2018-04-21T12:49:...|     Luella|123457354|    Park Place|\n",
      "|         75|4210653324260789|123456760| 27|    8|         17153|            Test|            64.92|2018|   262|4210653324260789|Chambersburg|United States|OAtkinson@example...|   1241254|        PA|   17201|      Otha| Atkinson|2018-04-21T12:49:...|    Chandra|123456760|  Oxford Court|\n",
      "|         32|4210653324260789|123456760| 26|    8|         17187|      Healthcare|             2.65|2018|   262|4210653324260789|Chambersburg|United States|OAtkinson@example...|   1241254|        PA|   17201|      Otha| Atkinson|2018-04-21T12:49:...|    Chandra|123456760|  Oxford Court|\n",
      "|         18|4210653320012911|123451364| 26|    8|         44786|   Entertainment|            26.31|2018|   993|4210653320012911|Chambersburg|United States|  SBrady@example.com|   1235814|        PA|   17201|     Sofia|    Brady|2018-04-21T12:49:...|     Gloria|123451364| Cooper Street|\n",
      "|         95|4210653374041659|123457354| 24|    8|         13479|         Grocery|            55.53|2018|   558|4210653374041659|Chambersburg|United States|RRobbins@example.com|   1241952|        PA|   17201|    Rickey|  Robbins|2018-04-21T12:49:...|     Luella|123457354|    Park Place|\n",
      "|        104|4210653358330252|123454437| 23|    8|         29089|         Grocery|             74.1|2018|   919|4210653358330252|Chambersburg|United States|  ARusso@example.com|   1242101|        PA|   17201|      Alma|    Russo|2018-04-21T12:49:...|      Korey|123454437|  White Street|\n",
      "|         56|4210653324260789|123456760| 22|    8|         17188|             Gas|             6.08|2018|   262|4210653324260789|Chambersburg|United States|OAtkinson@example...|   1241254|        PA|   17201|      Otha| Atkinson|2018-04-21T12:49:...|    Chandra|123456760|  Oxford Court|\n",
      "|         73|4210653324260789|123456760| 21|    8|         17141|            Test|            79.03|2018|   262|4210653324260789|Chambersburg|United States|OAtkinson@example...|   1241254|        PA|   17201|      Otha| Atkinson|2018-04-21T12:49:...|    Chandra|123456760|  Oxford Court|\n",
      "+-----------+----------------+---------+---+-----+--------------+----------------+-----------------+----+------+----------------+------------+-------------+--------------------+----------+----------+--------+----------+---------+--------------------+-----------+---------+--------------+\n",
      "only showing top 10 rows\n",
      "\n"
     ]
    }
   ],
   "source": [
    "#2.1 1) Used to display the transactions made by customers living in a given zip code for a given month and year.\n",
    "#Order by day in descending order.\n",
    "#from pyspark.sql.functions import col, asc,desc\n",
    "def transactions(year, month, zipcode):\n",
    "    df = credit.join(custmer, credit.CUST_SSN == custmer.SSN,  'outer')\n",
    "    df.filter( (df['year'] == year) & (df['month'] == month) & (df['CUST_ZIP'] == zipcode)).sort('day', ascending= False).show(10) \n",
    "\n",
    "transactions(2018, 8, 17201)"
   ]
  },
  {
   "cell_type": "code",
   "execution_count": 7,
   "metadata": {},
   "outputs": [
    {
     "name": "stdout",
     "output_type": "stream",
     "text": [
      "6549\n",
      "+----------------------+\n",
      "|sum(transaction_value)|\n",
      "+----------------------+\n",
      "|     337051.6299999992|\n",
      "+----------------------+\n",
      "\n"
     ]
    }
   ],
   "source": [
    "#Req 2.1 2) Used to display the number and total values of transactions for a given type.\n",
    "\n",
    "#Used credit pyspark dataframe and filtered based on transaction type. To get the total values, used the group by and sum method.\n",
    "from pyspark.sql.functions import sum\n",
    "def total_transactions(type):\n",
    "    print(credit.filter(credit['transaction_type'] == type).count())\n",
    "    credit.filter(credit['transaction_type'] == type).groupBy().sum('transaction_value').show()\n",
    "    \n",
    "total_transactions('Grocery')\n"
   ]
  },
  {
   "cell_type": "code",
   "execution_count": 11,
   "metadata": {},
   "outputs": [
    {
     "name": "stdout",
     "output_type": "stream",
     "text": [
      "2079\n",
      "+----------------------+\n",
      "|sum(transaction_value)|\n",
      "+----------------------+\n",
      "|    105667.73000000003|\n",
      "+----------------------+\n",
      "\n"
     ]
    }
   ],
   "source": [
    "#Req 2.1 3) Used to display the total number and total values of transactions for branches in a given state.\n",
    "\n",
    "def branch_transactions(state): \n",
    "        df2 = credit.join(branch, credit.BRANCH_CODE == branch.BRANCH_CODE,  'outer')\n",
    "        #below prints the total transactions \n",
    "        print(df2.filter(df2['BRANCH_STATE'] == state).count())\n",
    "        #below prints the total value of all the transactions\n",
    "        df2.filter(df2['BRANCH_STATE'] == state).groupBy().sum('transaction_value').show()\n",
    "\n",
    "branch_transactions('NJ')"
   ]
  },
  {
   "cell_type": "code",
   "execution_count": 12,
   "metadata": {},
   "outputs": [
    {
     "name": "stdout",
     "output_type": "stream",
     "text": [
      "+------+----------------+---------+-------------+-------------------+----------+----------+--------+----------+---------+--------------------+-----------+---------+-----------------+\n",
      "|APT_NO|  CREDIT_CARD_NO|CUST_CITY| CUST_COUNTRY|         CUST_EMAIL|CUST_PHONE|CUST_STATE|CUST_ZIP|FIRST_NAME|LAST_NAME|        LAST_UPDATED|MIDDLE_NAME|      SSN|      STREET_NAME|\n",
      "+------+----------------+---------+-------------+-------------------+----------+----------+--------+----------+---------+--------------------+-----------+---------+-----------------+\n",
      "|   656|4210653310061055|  Natchez|United States|AHooper@example.com|   1237818|        MS|   39120|      Alec|   Hooper|2018-04-21T12:49:...|         Wm|123456100|Main Street North|\n",
      "+------+----------------+---------+-------------+-------------------+----------+----------+--------+----------+---------+--------------------+-----------+---------+-----------------+\n",
      "\n",
      "None\n"
     ]
    }
   ],
   "source": [
    "#Req 2.2 1)Used to check the existing account details of a customer.\n",
    "\n",
    "def account_details(SSN):\n",
    "    print(custmer.filter(custmer['SSN'] == SSN).show())\n",
    "\n",
    "account_details(123456100)"
   ]
  },
  {
   "cell_type": "code",
   "execution_count": 9,
   "metadata": {},
   "outputs": [
    {
     "name": "stdout",
     "output_type": "stream",
     "text": [
      "  APT_NO    CREDIT_CARD_NO CUST_CITY   CUST_COUNTRY           CUST_EMAIL  \\\n",
      "0    656  4210653310061055   Natchez  United States  AHooper@example.com   \n",
      "\n",
      "   CUST_PHONE CUST_STATE CUST_ZIP FIRST_NAME LAST_NAME  \\\n",
      "0     1237818         MS    39120       Alec    Hooper   \n",
      "\n",
      "                    LAST_UPDATED MIDDLE_NAME        SSN        STREET_NAME  \\\n",
      "0  2018-04-21T12:49:02.000-04:00          Wm  123456100  Main Street North   \n",
      "\n",
      "  middle_name     full_street_address  \n",
      "0          wm  656, Main Street North  \n"
     ]
    }
   ],
   "source": [
    "#Req 2.2 2) Used to modify the existing account details of a customer.\n",
    "def modify_account(SSN):\n",
    "    print(updated_custmer.loc[updated_custmer['SSN'] == SSN])\n",
    "\n",
    "modify_account(123456100)"
   ]
  },
  {
   "cell_type": "code",
   "execution_count": 13,
   "metadata": {},
   "outputs": [
    {
     "name": "stdout",
     "output_type": "stream",
     "text": [
      "390.35\n"
     ]
    }
   ],
   "source": [
    "#Req 2.2 3) Used to generate a monthly bill for a credit card number for a given month and year.\n",
    "def monthly_bill(credit_card_no, month, year):\n",
    "    bill = credit.filter((credit['credit_card_no']== credit_card_no) & (credit['month']== month) & (credit['year']==year )).toPandas()\n",
    "    print(bill['TRANSACTION_VALUE'].sum())\n",
    "monthly_bill(4210653342242023, 3, 2018)"
   ]
  },
  {
   "cell_type": "code",
   "execution_count": null,
   "metadata": {},
   "outputs": [],
   "source": [
    "#Req 2.2 4) ) Used to display the transactions made by a customer between two dates. \n",
    "#Order by year, month, and day in descending order.\n",
    "\n"
   ]
  },
  {
   "cell_type": "code",
   "execution_count": 21,
   "metadata": {},
   "outputs": [
    {
     "data": {
      "text/plain": [
       "<BarContainer object of 7 artists>"
      ]
     },
     "execution_count": 21,
     "metadata": {},
     "output_type": "execute_result"
    },
    {
     "data": {
      "image/png": "[encoded data removed]",
      "text/plain": [
       "<Figure size 640x480 with 1 Axes>"
      ]
     },
     "metadata": {},
     "output_type": "display_data"
    }
   ],
   "source": [
    "#Req 3.1) Find and plot which transaction type has a high rate of transactions.\n",
    "\n",
    "import numpy as np \n",
    "import matplotlib.pyplot as plt\n",
    "\n",
    "#Make a list of all the unqiue transactions \n",
    "list_of_transactions = credit.select('transaction_type').distinct().rdd.map(lambda r: r[0]).collect()\n",
    "\n",
    "#Find the total number of rows of dataframe \n",
    "total_transactions = credit.count()\n",
    "\n",
    "#Find the percentage rate of each transaction type\n",
    "perc_education = (credit.filter(credit['transaction_type'] == 'Education').count()) / total_transactions\n",
    "perc_gas = (credit.filter(credit['transaction_type'] == 'Gas').count()) / total_transactions\n",
    "perc_entertainment = (credit.filter(credit['transaction_type'] == 'Entertainment').count()) / total_transactions\n",
    "perc_bills = (credit.filter(credit['transaction_type'] == 'Bills').count()) / total_transactions\n",
    "perc_grocery = (credit.filter(credit['transaction_type'] == 'Grocery').count()) / total_transactions\n",
    "perc_test = (credit.filter(credit['transaction_type'] == 'Test').count()) / total_transactions\n",
    "perc_healthcare = (credit.filter(credit['transaction_type'] == 'Healthcare').count()) / total_transactions\n",
    "\n",
    "rate_of_transactions = [perc_education, perc_entertainment, perc_healthcare, perc_grocery, perc_test, perc_gas, perc_bills]\n",
    "plt.ylim(0.14,0.16)\n",
    "plt.ylabel(\"Percentage\")\n",
    "plt.title(\"Percentage Rate of Each Transcation Type\")\n",
    "plt.xticks(rotation=90)\n",
    "plt.bar(list_of_transactions, rate_of_transactions)\n",
    "\n"
   ]
  },
  {
   "cell_type": "code",
   "execution_count": 27,
   "metadata": {},
   "outputs": [
    {
     "name": "stdout",
     "output_type": "stream",
     "text": [
      "+----------+-----+\n",
      "|CUST_STATE|count|\n",
      "+----------+-----+\n",
      "|        NY|   96|\n",
      "|        GA|   73|\n",
      "|        PA|   72|\n",
      "|        FL|   64|\n",
      "|        IL|   58|\n",
      "|        NJ|   53|\n",
      "|        MD|   50|\n",
      "|        CA|   45|\n",
      "|        MI|   44|\n",
      "|        OH|   44|\n",
      "|        VA|   39|\n",
      "|        NC|   37|\n",
      "|        TX|   33|\n",
      "|        MA|   33|\n",
      "|        SC|   30|\n",
      "|        WI|   29|\n",
      "|        MN|   28|\n",
      "|        MS|   24|\n",
      "|        IA|   21|\n",
      "|        KY|   17|\n",
      "+----------+-----+\n",
      "only showing top 20 rows\n",
      "\n"
     ]
    },
    {
     "data": {
      "image/png": "[encoded data removed]",
      "text/plain": [
       "<Figure size 640x480 with 1 Axes>"
      ]
     },
     "metadata": {},
     "output_type": "display_data"
    }
   ],
   "source": [
    "#Req 3.2 Find and plot which state has a high number of customers.\n",
    "import pandas as pd\n",
    "from pyspark.sql.functions import count\n",
    "\n",
    "#Create a pyspark dataframe showing which states has the most customers \n",
    "custmer.groupBy(\"CUST_STATE\").count().sort('count', ascending = False).show()\n",
    "\n",
    "#Convert the dataframe into a pandas dataframe\n",
    "states = (custmer.groupBy(\"CUST_STATE\").count().sort('count', ascending = False)).toPandas()\n",
    "\n",
    "#filter the dataframe to show only the top 5 values \n",
    "top5_states = states.loc[states['count'] >53] \n",
    "\n",
    "#Create 2 lists based on the dataframe\n",
    "#states_list = top5_states['CUST_STATE'].toList()\n",
    "#count_list = top5_states['count'].toList()\n",
    "states_plot = top5_states.plot.bar(x='CUST_STATE', y='count', title= 'States with the Most Customers', rot=0)"
   ]
  },
  {
   "cell_type": "code",
   "execution_count": 33,
   "metadata": {},
   "outputs": [
    {
     "name": "stdout",
     "output_type": "stream",
     "text": [
      "+-----------------+\n",
      "|sum(total_amount)|\n",
      "+-----------------+\n",
      "|         53184.55|\n",
      "+-----------------+\n",
      "\n",
      "+---------+------------+\n",
      "| cust_ssn|total_amount|\n",
      "+---------+------------+\n",
      "|123451125|     5633.07|\n",
      "+---------+------------+\n",
      "\n"
     ]
    },
    {
     "data": {
      "text/plain": [
       "<Axes: title={'center': 'Customer with the Highest Transaction Amount'}, xlabel='cust_ssn'>"
      ]
     },
     "execution_count": 33,
     "metadata": {},
     "output_type": "execute_result"
    },
    {
     "data": {
      "image/png": "[encoded data removed]",
      "text/plain": [
       "<Figure size 640x480 with 1 Axes>"
      ]
     },
     "metadata": {},
     "output_type": "display_data"
    }
   ],
   "source": [
    "#Req 3.3 ) Find and plot the sum of all transactions for the top 10 customers, and which customer has the highest \n",
    "#transaction amount. hint(use CUST_SSN). \n",
    "\n",
    "#Used subquery to get the sum of the top 10 customers \n",
    "spark.sql(\"SELECT sum(total_amount) FROM (SELECT cust_ssn, ROUND(sum(transaction_value),2) as total_amount FROM credit_table GROUP BY cust_ssn ORDER by 2 desc LIMIT 10)\").show()\n",
    "\n",
    "#Which customer has the highest transaction amount\n",
    "spark.sql(\"SELECT cust_ssn, ROUND(sum(transaction_value),2) as total_amount FROM credit_table GROUP BY cust_ssn ORDER by 2 desc LIMIT 1\").show()\n",
    "\n",
    "#Create plot, first convert to pandas \n",
    "highest_customer = spark.sql(\"SELECT cust_ssn, ROUND(sum(transaction_value),2) as total_amount FROM credit_table GROUP BY cust_ssn ORDER by 2 desc LIMIT 1\").toPandas()\n",
    "highest_customer.plot.bar(x='cust_ssn', y='total_amount', rot=0, title= \"Customer with the Highest Transaction Amount\")\n"
   ]
  },
  {
   "cell_type": "code",
   "execution_count": null,
   "metadata": {},
   "outputs": [
    {
     "data": {
      "text/plain": [
       "['SC',\n",
       " 'MN',\n",
       " 'NJ',\n",
       " 'VA',\n",
       " 'KY',\n",
       " 'MI',\n",
       " 'WI',\n",
       " 'CA',\n",
       " 'CT',\n",
       " 'MT',\n",
       " 'NC',\n",
       " 'MD',\n",
       " 'IL',\n",
       " 'WA',\n",
       " 'MS',\n",
       " 'AL',\n",
       " 'IN',\n",
       " 'OH',\n",
       " 'IA',\n",
       " 'PA',\n",
       " 'NY',\n",
       " 'TX',\n",
       " 'GA',\n",
       " 'MA',\n",
       " 'FL',\n",
       " 'AR']"
      ]
     },
     "execution_count": 32,
     "metadata": {},
     "output_type": "execute_result"
    }
   ],
   "source": [
    "list_of_states = custmer.select('CUST_STATE').distinct().rdd.map(lambda r: r[0]).collect()\n",
    "list_of_states\n"
   ]
  },
  {
   "cell_type": "code",
   "execution_count": 38,
   "metadata": {},
   "outputs": [],
   "source": [
    "# Req 4.1 Create a Python program to GET (consume) data from the above API endpoint for the loan application dataset.\n",
    "import requests\n",
    "import json\n",
    "from pandas.io.json import json_normalize\n",
    "api_url = 'https://raw.githubusercontent.com/platformps/LoanDataset/main/loan_data.json'\n",
    "response = requests.get(api_url)\n",
    "r = response.json()\n"
   ]
  },
  {
   "cell_type": "code",
   "execution_count": 98,
   "metadata": {},
   "outputs": [
    {
     "data": {
      "text/plain": [
       "200"
      ]
     },
     "execution_count": 98,
     "metadata": {},
     "output_type": "execute_result"
    }
   ],
   "source": [
    "#Req 4.2 Find the status code of the above API endpoint.\n",
    "response.status_code"
   ]
  },
  {
   "cell_type": "code",
   "execution_count": 39,
   "metadata": {},
   "outputs": [
    {
     "name": "stderr",
     "output_type": "stream",
     "text": [
      "c:\\Users\\Learner_XZHCG302\\AppData\\Local\\Programs\\Python\\Python310\\lib\\site-packages\\pyspark\\sql\\pandas\\conversion.py:474: FutureWarning: iteritems is deprecated and will be removed in a future version. Use .items instead.\n",
      "  for column, series in pdf.iteritems():\n",
      "c:\\Users\\Learner_XZHCG302\\AppData\\Local\\Programs\\Python\\Python310\\lib\\site-packages\\pyspark\\sql\\pandas\\conversion.py:486: FutureWarning: iteritems is deprecated and will be removed in a future version. Use .items instead.\n",
      "  for column, series in pdf.iteritems():\n"
     ]
    }
   ],
   "source": [
    "#Req 4.3 Once Python reads data from the API, utilize PySpark to load data into RDBMS(SQL).\n",
    "#The table name should be CDW-SAPP_loan_application in the database.\n",
    "import os \n",
    "db_user = os.environ.get('DB_USER')\n",
    "db_password= os.environ.get('DB_PASS')\n",
    "\n",
    "#Step 1: Convert json api into pandas dataframe\n",
    "df3 = pd.DataFrame.from_dict(r)\n",
    "\n",
    "#Step 2: Convert pandas dataframe to pysparl data to load into RDBMS(SQL)\n",
    "sparkDF = spark.createDataFrame(df3)\n",
    "#sparkDF.printSchema()\n",
    "#sparkDF.show()\n",
    "\n",
    "#Step 3: Load pyspark df into RDBMS \n",
    "sparkDF.write.format(\"jdbc\") \\\n",
    "  .mode(\"append\") \\\n",
    "  .option(\"url\", \"jdbc:mysql://localhost:3306/creditcard_capstone\") \\\n",
    "  .option(\"dbtable\", \"creditcard_capstone.CDW_SAPP_loan_application\") \\\n",
    "  .option(\"user\", db_user) \\\n",
    "  .option(\"password\", db_password) \\\n",
    "  .save()"
   ]
  },
  {
   "cell_type": "code",
   "execution_count": 42,
   "metadata": {},
   "outputs": [
    {
     "data": {
      "image/png": "[encoded data removed]",
      "text/plain": [
       "<Figure size 640x480 with 1 Axes>"
      ]
     },
     "metadata": {},
     "output_type": "display_data"
    }
   ],
   "source": [
    "# Req 5.1 ) Find and plot the percentage of applications approved for self-employed applicants.\n",
    "\n",
    "#Create temp view of loan dataframe\n",
    "#sparkDF.createTempView('loan')\n",
    "\n",
    "#Query dataframe to get get the app status for all people who are self_employed, then convert it to a pandas dataframe and store into a variable\n",
    "status_self_employed = (spark.sql(\"SELECT Application_status FROM loan WHERE self_employed = 'Yes'\")).toPandas()\n",
    "\n",
    "#get the amount of Y and N for the app status\n",
    "status_count = status_self_employed.value_counts()\n",
    "\n",
    "#Convert the counts into percetnages using map\n",
    "percentage_status = status_count.map( lambda x: x/70)\n",
    "\n",
    "#Plot the graph of the percentage of applications approved. \n",
    "percentage_status.plot(kind= 'bar', title= 'Percentage of Applications Approved for Self-Empoyed People', rot=0)\n",
    "plt.show()\n"
   ]
  },
  {
   "cell_type": "code",
   "execution_count": 44,
   "metadata": {},
   "outputs": [
    {
     "data": {
      "image/png": "[encoded data removed]",
      "text/plain": [
       "<Figure size 640x480 with 1 Axes>"
      ]
     },
     "metadata": {},
     "output_type": "display_data"
    }
   ],
   "source": [
    "#Req 5.2 ) Find the percentage of rejection for married male applicants \n",
    "status_married_male = (spark.sql(\"Select application_status FROM loan where (Gender = 'Male' and Married = 'Yes')\")).toPandas()\n",
    "\n",
    "count_status = status_married_male.value_counts()\n",
    "\n",
    "percentage_status_married_male = count_status.map( lambda x: x/306)\n",
    "percentage_status_married_male\n",
    "\n",
    "percentage_status_married_male.plot(kind= 'bar', title= 'Applications Approved vs Not Approved for Married Male Applicants', rot= 0)\n",
    "plt.show()\n"
   ]
  },
  {
   "cell_type": "code",
   "execution_count": 55,
   "metadata": {},
   "outputs": [
    {
     "data": {
      "text/plain": [
       "<Axes: title={'center': 'Months with most Transactions'}, xlabel='month'>"
      ]
     },
     "execution_count": 55,
     "metadata": {},
     "output_type": "execute_result"
    },
    {
     "data": {
      "image/png": "[encoded data removed]",
      "text/plain": [
       "<Figure size 640x480 with 1 Axes>"
      ]
     },
     "metadata": {},
     "output_type": "display_data"
    }
   ],
   "source": [
    "#5.3 Find and plot the top three months with the largest transaction data \n",
    "\n",
    "#Use SQL query to get the top 3 months with most transactions from credit df \n",
    "top3_months = (spark.sql(\"SELECT month, count(*) as transactions FROM credit_table GROUP BY month HAVING transactions > 3940 ORDER BY transactions desc\")).toPandas()\n",
    "\n",
    "top3_months.replace(2, 'Feb', inplace= True)\n",
    "top3_months.replace(5, 'May', inplace= True)\n",
    "top3_months.replace(10, 'Oct', inplace= True)\n",
    "\n",
    "top3_months.plot(kind='bar', x='month', y='transactions', ylim=(3900, 4000), title= 'Months with most Transactions')\n",
    "\n",
    "\n"
   ]
  },
  {
   "cell_type": "code",
   "execution_count": 57,
   "metadata": {},
   "outputs": [
    {
     "data": {
      "text/plain": [
       "<Axes: title={'center': 'Branch with Highest Healthcare Transaction Value'}, xlabel='BRANCH_CITY'>"
      ]
     },
     "execution_count": 57,
     "metadata": {},
     "output_type": "execute_result"
    },
    {
     "data": {
      "image/png": "[encoded data removed]",
      "text/plain": [
       "<Figure size 640x480 with 1 Axes>"
      ]
     },
     "metadata": {},
     "output_type": "display_data"
    }
   ],
   "source": [
    "#Req 5.4 ) Find and plot which branch processed the highest total dollar value of healthcare transactions.\n",
    "\n",
    "healthcare_total_amount = ((spark.sql(\"SELECT BRANCH_CITY, sum(transaction_value) total_transaction_amount \\\n",
    "FROM credit_table ct INNER JOIN branch_table bt on ct.branch_code = bt.branch_code \\\n",
    "WHERE transaction_type = 'Healthcare' GROUP BY BRANCH_CITY HAVING total_transaction_amount > 4000 ORDER BY 2 desc \"))).toPandas()\n",
    "\n",
    "healthcare_total_amount.plot(kind = 'bar', x='BRANCH_CITY', y='total_transaction_amount', title= 'Branch with Highest Healthcare Transaction Value', ylim=(3500, 5000), rot=0)"
   ]
  }
 ],
 "metadata": {
  "kernelspec": {
   "display_name": "Python 3",
   "language": "python",
   "name": "python3"
  },
  "language_info": {
   "codemirror_mode": {
    "name": "ipython",
    "version": 3
   },
   "file_extension": ".py",
   "mimetype": "text/x-python",
   "name": "python",
   "nbconvert_exporter": "python",
   "pygments_lexer": "ipython3",
   "version": "3.10.9"
  },
  "orig_nbformat": 4,
  "vscode": {
   "interpreter": {
    "hash": "827064b5c2d15d6ea80731bbcdf378ece32780f698175fe32a3074d71dbbda9a"
   }
  }
 },
 "nbformat": 4,
 "nbformat_minor": 2
}
